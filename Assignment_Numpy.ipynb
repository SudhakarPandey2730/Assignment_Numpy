{
  "nbformat": 4,
  "nbformat_minor": 0,
  "metadata": {
    "colab": {
      "provenance": []
    },
    "kernelspec": {
      "name": "python3",
      "display_name": "Python 3"
    },
    "language_info": {
      "name": "python"
    }
  },
  "cells": [
    {
      "cell_type": "markdown",
      "source": [
        "#**Assignment Numpy (Module 6)**\n",
        "\n",
        "---\n",
        "\n"
      ],
      "metadata": {
        "id": "71qICGQuLvuY"
      }
    },
    {
      "cell_type": "markdown",
      "source": [
        "# **Theoretical Questions:**"
      ],
      "metadata": {
        "id": "gUZwaexvMN4N"
      }
    },
    {
      "cell_type": "markdown",
      "source": [
        "**Question 1 :  Explain the purpose and advantages of NumPy in scientific computing and data analysis. How does it\n",
        "enhance Python's capabilities for numerical operations?**"
      ],
      "metadata": {
        "id": "P9h8FkxpMZnV"
      }
    },
    {
      "cell_type": "markdown",
      "source": [
        "## Solution:"
      ],
      "metadata": {
        "id": "A1cz_oMhMojU"
      }
    },
    {
      "cell_type": "markdown",
      "source": [
        "NumPy (Numerical Python) is a fundamental library for scientific computing and data analysis in Python.\n",
        "\n",
        "It provides powerful tools and capabilities that enhance Python's efficiency, particularly for numerical operations.\n",
        "\n",
        "Below mentioned some points shows the contribution to scientific computing and data analysis by enhancing Python's capabilities for numerical operations:"
      ],
      "metadata": {
        "id": "oLpMBsP0MwEN"
      }
    },
    {
      "cell_type": "markdown",
      "source": [
        "### 1. Efficient Multidimensional Arrays (ndarray)"
      ],
      "metadata": {
        "id": "IGMGjb8wNMdt"
      }
    },
    {
      "cell_type": "markdown",
      "source": [
        "NumPy's ndarray enables fast, memory-efficient storage and manipulation of large numerical datasets.\n",
        "\n",
        "Advantage :\n",
        "\n",
        "Advantage: Unlike Python's built-in lists, which are flexible but inefficient for numerical computations, NumPy arrays are optimized for performance. Operations on arrays are typically executed much faster because of the compact memory storage and efficient algorithms."
      ],
      "metadata": {
        "id": "f5oXQ5xsN2fN"
      }
    },
    {
      "cell_type": "markdown",
      "source": [
        "### 2. Vectorized Operations"
      ],
      "metadata": {
        "id": "cko5-5EJN_hl"
      }
    },
    {
      "cell_type": "markdown",
      "source": [
        "Supports element-wise operations without explicit loops, leading to faster, cleaner code.\n",
        "\n",
        "\n",
        "Advantage:\n",
        "\n",
        "Vectorized operations are much faster because the operations are executed at a lower level in C, avoiding the overhead of Python loops."
      ],
      "metadata": {
        "id": "HZT9fp2AOKs9"
      }
    },
    {
      "cell_type": "code",
      "source": [
        "import numpy as np\n",
        "a = np.array([1, 2, 3])\n",
        "b = np.array([4, 5, 6])\n",
        "result = a + b  # Array addition without loop\n",
        "print(result)"
      ],
      "metadata": {
        "colab": {
          "base_uri": "https://localhost:8080/"
        },
        "id": "RKlGnWjKOdLE",
        "outputId": "c8725a31-b2d2-4095-f36d-b59119ab8341"
      },
      "execution_count": 81,
      "outputs": [
        {
          "output_type": "stream",
          "name": "stdout",
          "text": [
            "[5 7 9]\n"
          ]
        }
      ]
    },
    {
      "cell_type": "markdown",
      "source": [
        "### 3. Broadcasting"
      ],
      "metadata": {
        "id": "ewQievYyOSzu"
      }
    },
    {
      "cell_type": "markdown",
      "source": [
        "Allows arithmetic operations on arrays with different shapes without manual resizing.\n",
        "\n",
        "Advantage:\n",
        "\n",
        "This feature eliminates the need for resizing or reshaping arrays to have compatible shapes for operations, making it easier to write concise and efficient code."
      ],
      "metadata": {
        "id": "clS-0Z8oOVKO"
      }
    },
    {
      "cell_type": "code",
      "source": [
        "import numpy as np\n",
        "a = np.array([[1, 2, 3],\n",
        "              [3,4,5]])\n",
        "b = np.array([4, 5, 6])\n",
        "result = a + b  # Array addition with automatic resizing\n",
        "print(result)"
      ],
      "metadata": {
        "colab": {
          "base_uri": "https://localhost:8080/"
        },
        "id": "M4Id1yYZOvvV",
        "outputId": "a547a381-fea6-41cd-e7d8-60588509a8e4"
      },
      "execution_count": 82,
      "outputs": [
        {
          "output_type": "stream",
          "name": "stdout",
          "text": [
            "[[ 5  7  9]\n",
            " [ 7  9 11]]\n"
          ]
        }
      ]
    },
    {
      "cell_type": "markdown",
      "source": [
        "### 4. Comprehensive Math Functions"
      ],
      "metadata": {
        "id": "K1ojJa9VPQsU"
      }
    },
    {
      "cell_type": "markdown",
      "source": [
        "Offers optimized tools for linear algebra, statistics, and more.\n",
        "\n",
        "Advantage:\n",
        "\n",
        "These functions are optimized for speed and efficiency, saving the user from writing them from scratch."
      ],
      "metadata": {
        "id": "5Wkfip4FPY39"
      }
    },
    {
      "cell_type": "markdown",
      "source": [
        "### 5. Memory Efficiency"
      ],
      "metadata": {
        "id": "07CYl6cvQz91"
      }
    },
    {
      "cell_type": "markdown",
      "source": [
        "NumPy arrays are more memory-efficient than Python lists.\n",
        "\n",
        "They use a fixed data type for each element, which allows them to consume less memory.\n",
        "\n",
        "Advantage:\n",
        "\n",
        "This is particularly useful when dealing with large datasets, making NumPy a go-to choice for applications like machine learning, data analysis, and simulations."
      ],
      "metadata": {
        "id": "OnbXsGjIQ3aq"
      }
    },
    {
      "cell_type": "markdown",
      "source": [
        "### 6. Integration with Other Libraries"
      ],
      "metadata": {
        "id": "Ze2b-W0DRTdN"
      }
    },
    {
      "cell_type": "markdown",
      "source": [
        "NumPy serves as the backbone for many other scientific computing libraries like SciPy, pandas, Matplotlib, and machine learning libraries like TensorFlow and PyTorch.\n",
        "\n",
        "Advantge:\n",
        "\n",
        "Its ubiquity ensures that it integrates seamlessly with these libraries, enabling users to build complex applications with fewer compatibility issues."
      ],
      "metadata": {
        "id": "lI9bVLjcRbBM"
      }
    },
    {
      "cell_type": "markdown",
      "source": [
        "### 7. Handling of Missing Data and Masked Arrays"
      ],
      "metadata": {
        "id": "ZmIUQZJlR0CH"
      }
    },
    {
      "cell_type": "markdown",
      "source": [
        "NumPy provides tools like masked arrays to handle missing or invalid data, making it easier to perform analysis in real-world scenarios where data can be incomplete.\n",
        "\n",
        "Advantage:\n",
        "\n",
        "Masked arrays allow users to ignore or handle missing values without disrupting calculations."
      ],
      "metadata": {
        "id": "u8_jx91dR6hd"
      }
    },
    {
      "cell_type": "markdown",
      "source": [
        "### 8. Performance Over Native Python"
      ],
      "metadata": {
        "id": "9try1J76SB3E"
      }
    },
    {
      "cell_type": "markdown",
      "source": [
        "NumPy uses optimized C and Fortran code under the hood, making it significantly faster than Python for numerical operations.\n",
        "\n",
        "Advantage:\n",
        "\n",
        "It allows Python to be used for performance-critical tasks that previously required languages like C, C++, or Fortran."
      ],
      "metadata": {
        "id": "5g5-ykBOSIJM"
      }
    },
    {
      "cell_type": "markdown",
      "source": [
        "*In summary, NumPy enhances Python by offering fast, memory-efficient, and convenient tools for numerical and scientific computing, bridging the gap between performance and usability*"
      ],
      "metadata": {
        "id": "FOFNQy-_Sjqs"
      }
    },
    {
      "cell_type": "markdown",
      "source": [
        "**Question 2 : Compare and contrast np.mean() and np.average() functions in NumPy. When would you use one over the\n",
        "other?**"
      ],
      "metadata": {
        "id": "x0il8zhISuJF"
      }
    },
    {
      "cell_type": "markdown",
      "source": [
        "## Solution:"
      ],
      "metadata": {
        "id": "-8SMnqrKS2Kk"
      }
    },
    {
      "cell_type": "markdown",
      "source": [
        "\n",
        "Both np.mean() and np.average() are used to compute the average value of an array in NumPy, but they differ in their functionality and use cases:"
      ],
      "metadata": {
        "id": "agUDOL6TS6mU"
      }
    },
    {
      "cell_type": "markdown",
      "source": [
        "### 1. np.mean():"
      ],
      "metadata": {
        "id": "uc-OoH18TE1N"
      }
    },
    {
      "cell_type": "markdown",
      "source": [
        "Definition: np.mean() calculates the arithmetic mean (average) of the elements along a specified axis, or of the entire array if no axis is specified.\n",
        "\n",
        "It does not support **weights**. It simply sums the values and divides by the total number of elements.\n"
      ],
      "metadata": {
        "id": "i_Tt6I_8TQLN"
      }
    },
    {
      "cell_type": "markdown",
      "source": [
        "Syntax -\n",
        "\n",
        "np.mean(array, axis=None)\n"
      ],
      "metadata": {
        "id": "W2kXI74nTk4N"
      }
    },
    {
      "cell_type": "markdown",
      "source": [
        "Use Case: Use np.mean() when we want a simple, unweighted average of the elements.\n",
        "\n",
        "It’s the most common and straightforward choice for computing the mean of a dataset."
      ],
      "metadata": {
        "id": "CH1pBFQ0Tz4j"
      }
    },
    {
      "cell_type": "code",
      "execution_count": 83,
      "metadata": {
        "colab": {
          "base_uri": "https://localhost:8080/"
        },
        "id": "JeQt31joLkJW",
        "outputId": "fbf2e4ae-fcd5-4c2b-a5eb-dcba457ac4fe"
      },
      "outputs": [
        {
          "output_type": "stream",
          "name": "stdout",
          "text": [
            "3.0\n"
          ]
        }
      ],
      "source": [
        "# Example\n",
        "import numpy as np\n",
        "data = np.array([1, 2, 3, 4, 5])\n",
        "mean_value = np.mean(data)\n",
        "print(mean_value)"
      ]
    },
    {
      "cell_type": "markdown",
      "source": [
        "### 2. np.average():"
      ],
      "metadata": {
        "id": "SsdruarTUA3D"
      }
    },
    {
      "cell_type": "markdown",
      "source": [
        "Definition: np.average() computes the **weighted average** of the array. By default, if no weights are provided, it behaves the same as np.mean(). However, you can provide a weights parameter to calculate a weighted mean."
      ],
      "metadata": {
        "id": "Ku1XYQ1EUIbp"
      }
    },
    {
      "cell_type": "markdown",
      "source": [
        "Weights: It supports weights. We can specify the importance of each element by passing an array of weights of the same shape as the input data."
      ],
      "metadata": {
        "id": "95b-JS2OUOaW"
      }
    },
    {
      "cell_type": "markdown",
      "source": [
        "Syntax -\n",
        "\n",
        "np.average(array, weights=None, axis=None)"
      ],
      "metadata": {
        "id": "37iNrPKqUV4E"
      }
    },
    {
      "cell_type": "markdown",
      "source": [
        "Use Case: Use np.average() when we need a weighted average, where some elements contribute more to the final average than others.\n",
        "\n",
        "This is useful in scenarios like computing a weighted grade, where some tests or assignments might have more significance than others."
      ],
      "metadata": {
        "id": "IeA1aGfEUbXj"
      }
    },
    {
      "cell_type": "code",
      "source": [
        "# Example\n",
        "\n",
        "import numpy as np\n",
        "data = np.array([1, 2, 3, 4, 5])\n",
        "weights = np.array([1, 1, 1, 1, 5])  # More weight for the last element\n",
        "weighted_avg = np.average(data, weights=weights)\n",
        "print(weighted_avg)"
      ],
      "metadata": {
        "colab": {
          "base_uri": "https://localhost:8080/"
        },
        "id": "oZfXasRPT75u",
        "outputId": "a6e3672e-ffae-407e-b291-fb74233d1195"
      },
      "execution_count": 84,
      "outputs": [
        {
          "output_type": "stream",
          "name": "stdout",
          "text": [
            "3.888888888888889\n"
          ]
        }
      ]
    },
    {
      "cell_type": "markdown",
      "source": [
        "**Question 3 :  Describe the methods for reversing a NumPy array along different axes. Provide examples for 1D and 2D\n",
        "arrays.**"
      ],
      "metadata": {
        "id": "y4urc6MiVClt"
      }
    },
    {
      "cell_type": "markdown",
      "source": [
        "## Solution:"
      ],
      "metadata": {
        "id": "s73Hup2QVYFj"
      }
    },
    {
      "cell_type": "markdown",
      "source": [
        "In NumPy, we\n",
        " can reverse arrays along different axes using a variety of methods. Below mentioned are some common ways to reverse arrays, with examples for both 1D and 2D arrays:"
      ],
      "metadata": {
        "id": "kLhqV1H2Vcek"
      }
    },
    {
      "cell_type": "markdown",
      "source": [
        "###**Reversing a 1D Array**"
      ],
      "metadata": {
        "id": "hDqMroApVqBS"
      }
    },
    {
      "cell_type": "markdown",
      "source": [
        "A 1D array is simply a vector, and reversing it can be done using **slicing** and **np.flip()** NumPy functions."
      ],
      "metadata": {
        "id": "THzRPbmkVzjE"
      }
    },
    {
      "cell_type": "markdown",
      "source": [
        "### Method 1: Slicing ([::-1])"
      ],
      "metadata": {
        "id": "GN2E44JJWNZu"
      }
    },
    {
      "cell_type": "code",
      "source": [
        "import numpy as np\n",
        "\n",
        "# 1D array\n",
        "arr_1d = np.array([1, 2, 3, 4, 5])\n",
        "\n",
        "# Reverse using slicing\n",
        "reversed_1d = arr_1d[::-1]\n",
        "print(reversed_1d)"
      ],
      "metadata": {
        "colab": {
          "base_uri": "https://localhost:8080/"
        },
        "id": "kTimABbJV0Sj",
        "outputId": "19e32b7b-cd6d-4db1-e57f-869c49503e45"
      },
      "execution_count": 85,
      "outputs": [
        {
          "output_type": "stream",
          "name": "stdout",
          "text": [
            "[5 4 3 2 1]\n"
          ]
        }
      ]
    },
    {
      "cell_type": "markdown",
      "source": [
        "### Method 2: Using np.flip() Function"
      ],
      "metadata": {
        "id": "wqzCLJbEWgIs"
      }
    },
    {
      "cell_type": "code",
      "source": [
        "# Reverse 1D array using np.flip\n",
        "reversed_1d_flip = np.flip(arr_1d)\n",
        "print(reversed_1d_flip)"
      ],
      "metadata": {
        "colab": {
          "base_uri": "https://localhost:8080/"
        },
        "id": "MIMFLhFZWWhN",
        "outputId": "f112beff-b523-4827-9606-9fa4dbd56482"
      },
      "execution_count": 86,
      "outputs": [
        {
          "output_type": "stream",
          "name": "stdout",
          "text": [
            "[5 4 3 2 1]\n"
          ]
        }
      ]
    },
    {
      "cell_type": "markdown",
      "source": [
        "### **Reversing a 2D Array**"
      ],
      "metadata": {
        "id": "pUUbWGALWt8U"
      }
    },
    {
      "cell_type": "markdown",
      "source": [
        "For a 2D array (matrix), we can reverse it along different axes (rows or columns). Here are methods to achieve that:"
      ],
      "metadata": {
        "id": "82YrnCR_W1pP"
      }
    },
    {
      "cell_type": "markdown",
      "source": [
        "### Method 1: Reversing along Rows (Axis 0)"
      ],
      "metadata": {
        "id": "WtAriZ5xW4z7"
      }
    },
    {
      "cell_type": "markdown",
      "source": [
        "We can reverse the order of the rows (flip vertically) using slicing."
      ],
      "metadata": {
        "id": "eGYGSOBpXd3E"
      }
    },
    {
      "cell_type": "code",
      "source": [
        "# 2D array\n",
        "arr_2d = np.array([[1, 2, 3],\n",
        "                   [4, 5, 6],\n",
        "                   [7, 8, 9]])\n",
        "\n",
        "# Reverse along rows (axis 0)\n",
        "reversed_rows = arr_2d[::-1, :]\n",
        "print(reversed_rows)"
      ],
      "metadata": {
        "colab": {
          "base_uri": "https://localhost:8080/"
        },
        "id": "_3Ab2Tp2WnX8",
        "outputId": "b9f9f704-1c57-40d9-d935-b305bfb16f3d"
      },
      "execution_count": 87,
      "outputs": [
        {
          "output_type": "stream",
          "name": "stdout",
          "text": [
            "[[7 8 9]\n",
            " [4 5 6]\n",
            " [1 2 3]]\n"
          ]
        }
      ]
    },
    {
      "cell_type": "markdown",
      "source": [
        "### Method 2: Reversing along Columns (Axis 1)"
      ],
      "metadata": {
        "id": "vYU2ti0kXghb"
      }
    },
    {
      "cell_type": "markdown",
      "source": [
        "To reverse the columns (flip horizontally), we can use slicing along axis 1."
      ],
      "metadata": {
        "id": "Ci7Ug98fXqAr"
      }
    },
    {
      "cell_type": "code",
      "source": [
        "# 2D array\n",
        "arr_2d = np.array([[1, 2, 3],\n",
        "                   [4, 5, 6],\n",
        "                   [7, 8, 9]])\n",
        "\n",
        "# Reverse along columns (axis 1)\n",
        "reversed_columns = arr_2d[:, ::-1]\n",
        "print(reversed_columns)\n"
      ],
      "metadata": {
        "colab": {
          "base_uri": "https://localhost:8080/"
        },
        "id": "70WYgdXLXKwN",
        "outputId": "96f3b2c7-8f67-4e08-ed61-bb83de8447de"
      },
      "execution_count": 88,
      "outputs": [
        {
          "output_type": "stream",
          "name": "stdout",
          "text": [
            "[[3 2 1]\n",
            " [6 5 4]\n",
            " [9 8 7]]\n"
          ]
        }
      ]
    },
    {
      "cell_type": "markdown",
      "source": [
        "### Method 3: Reversing Both Rows and Columns"
      ],
      "metadata": {
        "id": "ecpmd7DgX2xD"
      }
    },
    {
      "cell_type": "markdown",
      "source": [
        "We  can reverse the entire 2D array (both rows and columns) using double slicing."
      ],
      "metadata": {
        "id": "1EPlV5qhYQUL"
      }
    },
    {
      "cell_type": "code",
      "source": [
        "# 2D array\n",
        "arr_2d = np.array([[1, 2, 3],\n",
        "                   [4, 5, 6],\n",
        "                   [7, 8, 9]])\n",
        "\n",
        "# Reverse both rows and columns\n",
        "reversed_both = arr_2d[::-1, ::-1]\n",
        "print(reversed_both)"
      ],
      "metadata": {
        "colab": {
          "base_uri": "https://localhost:8080/"
        },
        "id": "4Ay2663xXzWM",
        "outputId": "7e187fce-6405-45d5-c335-72cf97d800b3"
      },
      "execution_count": 89,
      "outputs": [
        {
          "output_type": "stream",
          "name": "stdout",
          "text": [
            "[[9 8 7]\n",
            " [6 5 4]\n",
            " [3 2 1]]\n"
          ]
        }
      ]
    },
    {
      "cell_type": "markdown",
      "source": [
        "### Method 4: Using np.flip() - Reverse along rows (axis 0)"
      ],
      "metadata": {
        "id": "R-N3HACbZIjd"
      }
    },
    {
      "cell_type": "code",
      "source": [
        "# 2D array\n",
        "arr_2d = np.array([[1, 2, 3],\n",
        "                   [4, 5, 6],\n",
        "                   [7, 8, 9]])\n",
        "\n",
        "reversed_rows_flip = np.flip(arr_2d, axis=0)\n",
        "print(reversed_rows_flip)"
      ],
      "metadata": {
        "colab": {
          "base_uri": "https://localhost:8080/"
        },
        "id": "SDnzXf2LZw3t",
        "outputId": "ac0cd4b4-4bea-4aec-8834-4e9c601acd05"
      },
      "execution_count": 90,
      "outputs": [
        {
          "output_type": "stream",
          "name": "stdout",
          "text": [
            "[[7 8 9]\n",
            " [4 5 6]\n",
            " [1 2 3]]\n"
          ]
        }
      ]
    },
    {
      "cell_type": "markdown",
      "source": [
        "### Method 5: Using np.flip() - Reverse along columns (axis 1)"
      ],
      "metadata": {
        "id": "hI6QcD0sZR-b"
      }
    },
    {
      "cell_type": "code",
      "source": [
        "# 2D array\n",
        "arr_2d = np.array([[1, 2, 3],\n",
        "                   [4, 5, 6],\n",
        "                   [7, 8, 9]])\n",
        "\n",
        "reversed_columns_flip = np.flip(arr_2d, axis=1)\n",
        "print(reversed_columns_flip)"
      ],
      "metadata": {
        "colab": {
          "base_uri": "https://localhost:8080/"
        },
        "id": "sHhSBCOtZ3t1",
        "outputId": "288cbef9-71f0-4637-dd3b-d115408386fb"
      },
      "execution_count": 91,
      "outputs": [
        {
          "output_type": "stream",
          "name": "stdout",
          "text": [
            "[[3 2 1]\n",
            " [6 5 4]\n",
            " [9 8 7]]\n"
          ]
        }
      ]
    },
    {
      "cell_type": "markdown",
      "source": [
        "### Method 6: Using np.flip() - Reverse along both axes"
      ],
      "metadata": {
        "id": "ipMBfbuHZYAN"
      }
    },
    {
      "cell_type": "code",
      "source": [
        "# 2D array\n",
        "arr_2d = np.array([[1, 2, 3],\n",
        "                   [4, 5, 6],\n",
        "                   [7, 8, 9]])\n",
        "\n",
        "reversed_both_flip = np.flip(arr_2d)\n",
        "print(reversed_both_flip)"
      ],
      "metadata": {
        "colab": {
          "base_uri": "https://localhost:8080/"
        },
        "id": "xKPk3QY4Yck7",
        "outputId": "f09f4ce7-c3ba-4bb6-a9f5-c2b3d0f9ef2c"
      },
      "execution_count": 92,
      "outputs": [
        {
          "output_type": "stream",
          "name": "stdout",
          "text": [
            "[[9 8 7]\n",
            " [6 5 4]\n",
            " [3 2 1]]\n"
          ]
        }
      ]
    },
    {
      "cell_type": "markdown",
      "source": [
        "**Question 4 : How can you determine the data type of elements in a NumPy array? Discuss the importance of data types\n",
        "in memory management and performance.**"
      ],
      "metadata": {
        "id": "qUOoDfUVaPIL"
      }
    },
    {
      "cell_type": "markdown",
      "source": [
        "## Solution:"
      ],
      "metadata": {
        "id": "XImyO4zRaerv"
      }
    },
    {
      "cell_type": "markdown",
      "source": [
        " We use the **dtype attribute** to determine the Data Type of Elements in a NumPy Array:"
      ],
      "metadata": {
        "id": "FjhRYmNIajpG"
      }
    },
    {
      "cell_type": "code",
      "source": [
        "import numpy as np\n",
        "\n",
        "# Create a NumPy array\n",
        "arr = np.array([1, 2, 3])\n",
        "\n",
        "# Determine the data type of the elements\n",
        "print(arr.dtype)"
      ],
      "metadata": {
        "colab": {
          "base_uri": "https://localhost:8080/"
        },
        "id": "T-ifd270aFnR",
        "outputId": "95eb4d35-4e71-4ec0-b06c-04e5b0c28c7e"
      },
      "execution_count": 93,
      "outputs": [
        {
          "output_type": "stream",
          "name": "stdout",
          "text": [
            "int64\n"
          ]
        }
      ]
    },
    {
      "cell_type": "markdown",
      "source": [
        "The dtype attribute tells you the type of elements stored in the array, such as int64, float32, complex128, etc.\n",
        "\n",
        "We can also specify the data type when creating an array using the dtype parameter."
      ],
      "metadata": {
        "id": "dChBrSm-a_8b"
      }
    },
    {
      "cell_type": "code",
      "source": [
        "# Create an array with specified data type (float)\n",
        "arr_float = np.array([1, 2, 3], dtype=float)\n",
        "print(arr_float.dtype)"
      ],
      "metadata": {
        "colab": {
          "base_uri": "https://localhost:8080/"
        },
        "id": "Bi--bxS-a90J",
        "outputId": "3f0cfb7c-286e-4f8e-c6ac-4ead4350953a"
      },
      "execution_count": 94,
      "outputs": [
        {
          "output_type": "stream",
          "name": "stdout",
          "text": [
            "float64\n"
          ]
        }
      ]
    },
    {
      "cell_type": "markdown",
      "source": [
        "### Importance of Data Types in Memory Management and Performance"
      ],
      "metadata": {
        "id": "MIwJ6jQMbJDS"
      }
    },
    {
      "cell_type": "markdown",
      "source": [
        "### 1. Memory Efficiency:"
      ],
      "metadata": {
        "id": "gW8CaDNrbWaV"
      }
    },
    {
      "cell_type": "markdown",
      "source": [
        "**Fixed Size Data Types:** NumPy arrays are stored in contiguous memory blocks and have a fixed data type for all elements (unlike Python lists).\n",
        "\n",
        "This fixed data type allows for more compact memory usage, as each element occupies a known, consistent amount of memory.\n",
        "\n",
        "For example, an int32 array uses 4 bytes per element, while a float64 array uses 8 bytes per element."
      ],
      "metadata": {
        "id": "zatPc3CqbhcE"
      }
    },
    {
      "cell_type": "markdown",
      "source": [
        "**Minimizing Memory Usage :** Choosing an appropriate data type (e.g., int8, float32) can significantly reduce memory usage, especially when working with large datasets.\n",
        "\n",
        "For example, if your dataset only contains small integers, using int8 instead of int64 can save considerable memory."
      ],
      "metadata": {
        "id": "aHGizJiBbqTC"
      }
    },
    {
      "cell_type": "code",
      "source": [
        "arr_small_ints = np.array([1, 2, 3], dtype=np.int8)\n",
        "print(arr_small_ints.nbytes) # Output: 3 bytes (1 byte per element)"
      ],
      "metadata": {
        "colab": {
          "base_uri": "https://localhost:8080/"
        },
        "id": "dRdQv_YPbFyL",
        "outputId": "0f182e77-f1dd-44aa-d883-2166f6ed2dfc"
      },
      "execution_count": 95,
      "outputs": [
        {
          "output_type": "stream",
          "name": "stdout",
          "text": [
            "3\n"
          ]
        }
      ]
    },
    {
      "cell_type": "markdown",
      "source": [
        "### 2. Performance:"
      ],
      "metadata": {
        "id": "4sib0wgCcYxj"
      }
    },
    {
      "cell_type": "markdown",
      "source": [
        "**Efficient Storage and Access:** NumPy's fixed-size data types lead to more efficient memory access patterns. Since the data is stored contiguously and each element is the same size, it is faster to access elements in the array.\n",
        "\n",
        "**Lower Overhead:** Operations on NumPy arrays are optimized for speed, in part because the data type is fixed, which allows NumPy to use low-level optimized C and Fortran routines.\n",
        "\n",
        "**Faster Computations:** Choosing the right data type can improve performance in computations. For example, using float32 instead of float64 for numerical calculations can save memory and improve performance if high precision isn’t required."
      ],
      "metadata": {
        "id": "MJSa9UaHcivj"
      }
    },
    {
      "cell_type": "markdown",
      "source": [
        "### 3. Data Type Conversion:"
      ],
      "metadata": {
        "id": "RiidtkGDc0Ys"
      }
    },
    {
      "cell_type": "markdown",
      "source": [
        "**Automatic Upcasting:** NumPy automatically upcasts data types when necessary to avoid data loss during computations.\n",
        "\n",
        "For example, if ywe mix int32 and float64 in an operation, the result will be float64.\n",
        "\n",
        "However, unnecessary upcasting (e.g., using float64 when float32 would suffice) can lead to performance and memory inefficiencies."
      ],
      "metadata": {
        "id": "637M8Qz1c9FO"
      }
    },
    {
      "cell_type": "code",
      "source": [
        "arr1 = np.array([1, 2, 3], dtype=np.int32)\n",
        "arr2 = np.array([1.5, 2.5, 3.5], dtype=np.float64)\n",
        "result = arr1 + arr2\n",
        "print(result.dtype)  # Output: float64 (due to upcasting)"
      ],
      "metadata": {
        "colab": {
          "base_uri": "https://localhost:8080/"
        },
        "id": "S4nukiq9cPij",
        "outputId": "40c0dc3f-9b22-4a12-bdf0-6922a3622b4d"
      },
      "execution_count": 96,
      "outputs": [
        {
          "output_type": "stream",
          "name": "stdout",
          "text": [
            "float64\n"
          ]
        }
      ]
    },
    {
      "cell_type": "markdown",
      "source": [
        "### 4. Preventing Overflow and Underflow:"
      ],
      "metadata": {
        "id": "vjx-L7vHdRCb"
      }
    },
    {
      "cell_type": "markdown",
      "source": [
        "**Choosing the Right Data Type:** For numerical stability, especially in large datasets, selecting the right data type is crucial.\n",
        "\n",
        "For example, choosing an int8 type when large integers are expected could lead to overflow errors.\n",
        "\n",
        "Similarly, using float32 in calculations with very small or very large values might result in underflow or precision loss."
      ],
      "metadata": {
        "id": "gJ7pM4Qddfb7"
      }
    },
    {
      "cell_type": "markdown",
      "source": [
        "**Question 5:  Define ndarrays in NumPy and explain their key features. How do they differ from standard Python lists?**"
      ],
      "metadata": {
        "id": "d_49G9tXdx3V"
      }
    },
    {
      "cell_type": "markdown",
      "source": [
        "## Solution:"
      ],
      "metadata": {
        "id": "pVL0egxpd4i9"
      }
    },
    {
      "cell_type": "markdown",
      "source": [
        "In NumPy, ndarray (N-dimensional array) is the core data structure used to represent arrays. It is a powerful, flexible, and efficient container for homogeneous data (all elements of the same type), designed specifically for scientific computing."
      ],
      "metadata": {
        "id": "KlBVeMf5eFiP"
      }
    },
    {
      "cell_type": "markdown",
      "source": [
        "### Key Features of ndarray:"
      ],
      "metadata": {
        "id": "L2ehaPNNeGwl"
      }
    },
    {
      "cell_type": "markdown",
      "source": [
        "### 1. Multidimensional"
      ],
      "metadata": {
        "id": "k4ECffIZeNNZ"
      }
    },
    {
      "cell_type": "markdown",
      "source": [
        "An ndarray can have any number of dimensions (N-dimensional), such as 1D, 2D, 3D, etc. This allows it to represent vectors, matrices, or higher-dimensional tensors.\n",
        "\n",
        "\n",
        "The shape of an ndarray is defined by its dimensions. For example, a 2D array with 3 rows and 4 columns has the shape (3, 4).\n"
      ],
      "metadata": {
        "id": "jYk-_z5JeUdS"
      }
    },
    {
      "cell_type": "code",
      "source": [
        "import numpy as np\n",
        "arr = np.array([[1, 2, 3], [4, 5, 6]])\n",
        "print(arr.shape)  # Output: (2, 3) -> 2 rows, 3 columns"
      ],
      "metadata": {
        "colab": {
          "base_uri": "https://localhost:8080/"
        },
        "id": "iZ2UQ_BEdNn7",
        "outputId": "ac903d3f-58db-470e-ca0c-bdd23173b494"
      },
      "execution_count": 97,
      "outputs": [
        {
          "output_type": "stream",
          "name": "stdout",
          "text": [
            "(2, 3)\n"
          ]
        }
      ]
    },
    {
      "cell_type": "markdown",
      "source": [
        "### 2. Homogeneous Data"
      ],
      "metadata": {
        "id": "WC8xKjakekDc"
      }
    },
    {
      "cell_type": "markdown",
      "source": [
        "All elements in an ndarray must have the same data type (dtype). This ensures memory efficiency and allows NumPy to optimize operations.\n",
        "\n",
        "\n",
        "We can specify the data type when creating the array, or NumPy will infer it automatically."
      ],
      "metadata": {
        "id": "Eqe6XTeveqy3"
      }
    },
    {
      "cell_type": "code",
      "source": [
        "arr = np.array([1.5, 2.3, 3.7], dtype=np.float32)\n",
        "print(arr.dtype)  # Output: float32"
      ],
      "metadata": {
        "colab": {
          "base_uri": "https://localhost:8080/"
        },
        "id": "97ktsR7EeevM",
        "outputId": "97289e62-3960-4e8f-dffc-b2437fc6ea3f"
      },
      "execution_count": 98,
      "outputs": [
        {
          "output_type": "stream",
          "name": "stdout",
          "text": [
            "float32\n"
          ]
        }
      ]
    },
    {
      "cell_type": "markdown",
      "source": [
        "### 3. Contiguous Memory Block"
      ],
      "metadata": {
        "id": "aON7USWEezEB"
      }
    },
    {
      "cell_type": "markdown",
      "source": [
        "ndarray elements are stored in a contiguous block of memory, unlike Python lists which are dynamic and store references to objects.\n",
        "\n",
        "\n",
        "This leads to better memory efficiency and cache performance, especially for large datasets."
      ],
      "metadata": {
        "id": "sfMk5JNNe4_4"
      }
    },
    {
      "cell_type": "markdown",
      "source": [
        "### 4. Vectorized Operations"
      ],
      "metadata": {
        "id": "0hchxPCPfFzg"
      }
    },
    {
      "cell_type": "markdown",
      "source": [
        "NumPy supports element-wise operations without the need for explicit loops, known as vectorization.\n",
        "\n",
        "This leads to faster execution and cleaner code.\n",
        "\n",
        "\n",
        "Operations on ndarray objects are optimized at a lower level, often using C or Fortran routines."
      ],
      "metadata": {
        "id": "nmANDC8TfMg_"
      }
    },
    {
      "cell_type": "code",
      "source": [
        "arr = np.array([1, 2, 3])\n",
        "arr2 = np.array([4, 5, 6])\n",
        "result = arr + arr2  # Element-wise addition\n",
        "print(result)"
      ],
      "metadata": {
        "colab": {
          "base_uri": "https://localhost:8080/"
        },
        "id": "6Sd0DRavewAL",
        "outputId": "3b762512-1d5d-4a87-db5e-b464fe40c194"
      },
      "execution_count": 99,
      "outputs": [
        {
          "output_type": "stream",
          "name": "stdout",
          "text": [
            "[5 7 9]\n"
          ]
        }
      ]
    },
    {
      "cell_type": "markdown",
      "source": [
        "### 5. Broadcasting"
      ],
      "metadata": {
        "id": "Jg2avHtdfbeY"
      }
    },
    {
      "cell_type": "markdown",
      "source": [
        "ndarray supports broadcasting, allowing arithmetic operations on arrays of different shapes without resizing them.\n",
        "\n",
        "This makes operations more flexible and efficient."
      ],
      "metadata": {
        "id": "6uz2D1TlfgOn"
      }
    },
    {
      "cell_type": "code",
      "source": [
        "arr = np.array([[1, 2, 3], [4, 5, 6]])\n",
        "scalar = 10\n",
        "result = arr + scalar  # Broadcasting scalar to array\n",
        "print(result)"
      ],
      "metadata": {
        "colab": {
          "base_uri": "https://localhost:8080/"
        },
        "id": "nAKJ4ITFfVqj",
        "outputId": "d3a159ce-6563-4a8a-ba75-461a9848b020"
      },
      "execution_count": 100,
      "outputs": [
        {
          "output_type": "stream",
          "name": "stdout",
          "text": [
            "[[11 12 13]\n",
            " [14 15 16]]\n"
          ]
        }
      ]
    },
    {
      "cell_type": "markdown",
      "source": [
        "### 6. Efficient Mathematical Functions"
      ],
      "metadata": {
        "id": "O-uZZFt5ftKc"
      }
    },
    {
      "cell_type": "markdown",
      "source": [
        "NumPy provides a wide range of efficient mathematical and statistical functions (e.g., mean(), sum(), dot()), which work seamlessly with ndarray objects."
      ],
      "metadata": {
        "id": "A0lLx7o0fx5r"
      }
    },
    {
      "cell_type": "code",
      "source": [
        "arr = np.array([1, 2, 3, 4])\n",
        "print(np.mean(arr))"
      ],
      "metadata": {
        "colab": {
          "base_uri": "https://localhost:8080/"
        },
        "id": "oh-G3LERfkv7",
        "outputId": "9661b7c5-5713-4f25-bd6d-329303f12339"
      },
      "execution_count": 101,
      "outputs": [
        {
          "output_type": "stream",
          "name": "stdout",
          "text": [
            "2.5\n"
          ]
        }
      ]
    },
    {
      "cell_type": "markdown",
      "source": [
        "### 7. Shape Manipulation"
      ],
      "metadata": {
        "id": "mCEjATFOf5fd"
      }
    },
    {
      "cell_type": "markdown",
      "source": [
        "ndarray allows easy manipulation of the shape of arrays, such as reshaping, transposing, or flattening arrays, without copying the data in memory."
      ],
      "metadata": {
        "id": "f64HvLB_f--j"
      }
    },
    {
      "cell_type": "code",
      "source": [
        "arr = np.array([[1, 2], [3, 4], [5, 6]])\n",
        "reshaped = arr.reshape(2, 3)\n",
        "print(reshaped)"
      ],
      "metadata": {
        "colab": {
          "base_uri": "https://localhost:8080/"
        },
        "id": "v5q4cHOjf2vT",
        "outputId": "abffac50-2c9c-4bdc-d51c-e07cb154d7f0"
      },
      "execution_count": 102,
      "outputs": [
        {
          "output_type": "stream",
          "name": "stdout",
          "text": [
            "[[1 2 3]\n",
            " [4 5 6]]\n"
          ]
        }
      ]
    },
    {
      "cell_type": "markdown",
      "source": [
        "### 8. Indexing and Slicing"
      ],
      "metadata": {
        "id": "pZ7f1yb9gEUX"
      }
    },
    {
      "cell_type": "markdown",
      "source": [
        "ndarray supports advanced indexing and slicing capabilities, including multidimensional slicing, boolean indexing, and fancy indexing."
      ],
      "metadata": {
        "id": "l83ZZudVgIDe"
      }
    },
    {
      "cell_type": "code",
      "source": [
        "arr = np.array([[1, 2, 3], [4, 5, 6], [7, 8, 9]])\n",
        "print(arr[:, 1])"
      ],
      "metadata": {
        "colab": {
          "base_uri": "https://localhost:8080/"
        },
        "id": "X4IEO87LgB-L",
        "outputId": "71e3c2b8-07ba-4f62-a9e2-61ace4e5d155"
      },
      "execution_count": 103,
      "outputs": [
        {
          "output_type": "stream",
          "name": "stdout",
          "text": [
            "[2 5 8]\n"
          ]
        }
      ]
    },
    {
      "cell_type": "markdown",
      "source": [
        "### Differences Between ndarray and Python Lists:"
      ],
      "metadata": {
        "id": "71K_GAYmgbWw"
      }
    },
    {
      "cell_type": "markdown",
      "source": [
        "![image.png](data:image/png;base64,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)"
      ],
      "metadata": {
        "id": "LKFfixbNgy4_"
      }
    },
    {
      "cell_type": "markdown",
      "source": [
        "**Question 6 :  Analyze the performance benefits of NumPy arrays over Python lists for large-scale numerical operations.**"
      ],
      "metadata": {
        "id": "j3ysSTmeg7_m"
      }
    },
    {
      "cell_type": "markdown",
      "source": [
        "## Solution:"
      ],
      "metadata": {
        "id": "D_4wpaV6hIbj"
      }
    },
    {
      "cell_type": "markdown",
      "source": [
        "NumPy arrays provide significant performance benefits over Python lists, especially for large-scale numerical operations.\n",
        "\n",
        "For large-scale numerical operations, NumPy arrays outperform Python lists in several key ways:"
      ],
      "metadata": {
        "id": "LoE7NgfrhMya"
      }
    },
    {
      "cell_type": "markdown",
      "source": [
        "**Memory Efficiency:** NumPy arrays use contiguous memory and fixed data types, consuming less memory than Python lists, which store elements as references, leading to higher memory usage.\n",
        "\n",
        "**Speed:** NumPy performs vectorized operations in compiled C/Fortran code, enabling faster computations for large datasets, while Python lists require slower, explicit loops for element-wise operations.\n",
        "\n",
        "**Low-Level Optimization:** NumPy leverages optimized libraries (e.g., BLAS, LAPACK) for efficient handling of large numerical tasks like matrix multiplication, which is far slower in Python lists.\n",
        "\n",
        "**Broadcasting:** NumPy’s broadcasting automatically applies operations to arrays of different shapes, simplifying large-scale arithmetic. Python lists require manual loops to handle shape differences.\n",
        "\n",
        "**Advanced Indexing:** NumPy supports efficient slicing and indexing for large datasets, while Python lists lack such optimized features."
      ],
      "metadata": {
        "id": "S2GKbGUTidGF"
      }
    },
    {
      "cell_type": "markdown",
      "source": [
        "In large-scale numerical operations, NumPy offers faster execution, better memory management, and more efficient handling of complex calculations compared to Python lists."
      ],
      "metadata": {
        "id": "XL5DsAOqixoL"
      }
    },
    {
      "cell_type": "markdown",
      "source": [
        "**Question 7 : Compare vstack() and hstack() functions in NumPy. Provide examples demonstrating their usage and\n",
        "output.**"
      ],
      "metadata": {
        "id": "87mN7GLAi9_s"
      }
    },
    {
      "cell_type": "markdown",
      "source": [
        "## Solution:"
      ],
      "metadata": {
        "id": "UbMghRBcjQxS"
      }
    },
    {
      "cell_type": "markdown",
      "source": [
        "### 1. vstack() (Vertical Stack)"
      ],
      "metadata": {
        "id": "ijG6pWxZjWDY"
      }
    },
    {
      "cell_type": "markdown",
      "source": [
        "Stacks arrays in sequence vertically (row-wise). This means the arrays are combined along the first axis (axis 0)."
      ],
      "metadata": {
        "id": "FsA7ZlWcjxdd"
      }
    },
    {
      "cell_type": "code",
      "source": [
        "import numpy as np\n",
        "\n",
        "# Create two 1D arrays\n",
        "array1 = np.array([1, 2, 3])\n",
        "array2 = np.array([4, 5, 6])\n",
        "\n",
        "# Use vstack to stack them vertically\n",
        "vertical_stack = np.vstack((array1, array2))\n",
        "print(\"Vertical Stack:\\n\", vertical_stack)"
      ],
      "metadata": {
        "colab": {
          "base_uri": "https://localhost:8080/"
        },
        "id": "u8Bf-1cjgLtL",
        "outputId": "d7dc7309-375a-410d-f249-374b174515f0"
      },
      "execution_count": 104,
      "outputs": [
        {
          "output_type": "stream",
          "name": "stdout",
          "text": [
            "Vertical Stack:\n",
            " [[1 2 3]\n",
            " [4 5 6]]\n"
          ]
        }
      ]
    },
    {
      "cell_type": "markdown",
      "source": [
        "### 2. hstack() (Horizontal Stack)"
      ],
      "metadata": {
        "id": "Bp6FdsgGj7g-"
      }
    },
    {
      "cell_type": "markdown",
      "source": [
        "Stacks arrays in sequence horizontally (column-wise). This means the arrays are combined along the second axis (axis 1)."
      ],
      "metadata": {
        "id": "mgevZGRfkMz-"
      }
    },
    {
      "cell_type": "code",
      "source": [
        "import numpy as np\n",
        "\n",
        "# Create two 1D arrays\n",
        "array1 = np.array([1, 2, 3])\n",
        "array2 = np.array([4, 5, 6])\n",
        "\n",
        "# Use hstack to stack them horizontally\n",
        "horizontal_stack = np.hstack((array1, array2))\n",
        "print(\"Horizontal Stack:\\n\", horizontal_stack)"
      ],
      "metadata": {
        "colab": {
          "base_uri": "https://localhost:8080/"
        },
        "id": "YA32cCYsj5Wk",
        "outputId": "d501286c-b9fc-44e3-a1e0-525305850d01"
      },
      "execution_count": 105,
      "outputs": [
        {
          "output_type": "stream",
          "name": "stdout",
          "text": [
            "Horizontal Stack:\n",
            " [1 2 3 4 5 6]\n"
          ]
        }
      ]
    },
    {
      "cell_type": "markdown",
      "source": [
        "**Question 8 :  Explain the differences between fliplr() and flipud() methods in NumPy, including their effects on various\n",
        "array dimensions.**"
      ],
      "metadata": {
        "id": "vD01YVRrkX40"
      }
    },
    {
      "cell_type": "markdown",
      "source": [
        "## Solution:"
      ],
      "metadata": {
        "id": "EE27oGlpkh4t"
      }
    },
    {
      "cell_type": "markdown",
      "source": [
        "In NumPy, fliplr() and flipud() are methods used to flip (reverse) arrays along specific axes."
      ],
      "metadata": {
        "id": "7aLunkaUkkXK"
      }
    },
    {
      "cell_type": "markdown",
      "source": [
        "### fliplr() (Flip Left to Right)"
      ],
      "metadata": {
        "id": "I2gLg5jKknTG"
      }
    },
    {
      "cell_type": "markdown",
      "source": [
        "Purpose: Flips the array in the left-right direction (horizontally).\n",
        "\n",
        "Effect: It reverses the order of the columns in a 2D array (or the last axis for higher-dimensional arrays).\n",
        "\n",
        "Input Requirement: Works primarily on 2D arrays but can be applied to arrays of higher dimensions as well, affecting only the last axis."
      ],
      "metadata": {
        "id": "4kw5uziwkvW-"
      }
    },
    {
      "cell_type": "code",
      "source": [
        "import numpy as np\n",
        "\n",
        "# Create a 2D array\n",
        "array_2d = np.array([[1, 2, 3],\n",
        "                     [4, 5, 6]])\n",
        "\n",
        "# Flip left to right\n",
        "flipped_lr = np.fliplr(array_2d)\n",
        "print(\"Original Array:\\n\", array_2d)\n",
        "print(\"Flipped Left to Right:\\n\", flipped_lr)"
      ],
      "metadata": {
        "colab": {
          "base_uri": "https://localhost:8080/"
        },
        "id": "xkvQ5GaqkQWq",
        "outputId": "2ec5b33e-c6cd-4693-b222-04aeff389880"
      },
      "execution_count": 106,
      "outputs": [
        {
          "output_type": "stream",
          "name": "stdout",
          "text": [
            "Original Array:\n",
            " [[1 2 3]\n",
            " [4 5 6]]\n",
            "Flipped Left to Right:\n",
            " [[3 2 1]\n",
            " [6 5 4]]\n"
          ]
        }
      ]
    },
    {
      "cell_type": "markdown",
      "source": [
        "### flipud() (Flip Up to Down)"
      ],
      "metadata": {
        "id": "B3cCVGlpk-Ma"
      }
    },
    {
      "cell_type": "markdown",
      "source": [
        "Purpose: Flips the array in the up-down direction (vertically).\n",
        "\n",
        "Effect: It reverses the order of the rows in a 2D array (or the first axis for higher-dimensional arrays).\n",
        "\n",
        "Input Requirement: Works primarily on 2D arrays but can also be applied to higher-dimensional arrays, affecting only the first axis."
      ],
      "metadata": {
        "id": "PLT1OnUxlBlK"
      }
    },
    {
      "cell_type": "code",
      "source": [
        "import numpy as np\n",
        "\n",
        "# Create a 2D array\n",
        "array_2d = np.array([[1, 2, 3],\n",
        "                     [4, 5, 6]])\n",
        "\n",
        "# Flip up to down\n",
        "flipped_ud = np.flipud(array_2d)\n",
        "print(\"Original Array:\\n\", array_2d)\n",
        "print(\"Flipped Up to Down:\\n\", flipped_ud)"
      ],
      "metadata": {
        "colab": {
          "base_uri": "https://localhost:8080/"
        },
        "id": "vdyedi96k2e7",
        "outputId": "cac301d7-6e5d-4c0c-fe6e-9d542e051b66"
      },
      "execution_count": 107,
      "outputs": [
        {
          "output_type": "stream",
          "name": "stdout",
          "text": [
            "Original Array:\n",
            " [[1 2 3]\n",
            " [4 5 6]]\n",
            "Flipped Up to Down:\n",
            " [[4 5 6]\n",
            " [1 2 3]]\n"
          ]
        }
      ]
    },
    {
      "cell_type": "markdown",
      "source": [
        "### Effects on Various Array Dimensions:"
      ],
      "metadata": {
        "id": "pJoJi-srlQPf"
      }
    },
    {
      "cell_type": "markdown",
      "source": [
        "1D Arrays:\n",
        "\n",
        "Both fliplr() and flipud() will give **Value Error** because both functions are intended for use with 2D arrays or higher dimensions, and they expect the input to have at least two dimensions."
      ],
      "metadata": {
        "id": "m1NWFwG7lWk0"
      }
    },
    {
      "cell_type": "code",
      "source": [
        "array_1d = np.array([1, 2, 3])\n",
        "print(np.fliplr(array_1d))\n",
        "print(np.flipud(array_1d))"
      ],
      "metadata": {
        "colab": {
          "base_uri": "https://localhost:8080/",
          "height": 297
        },
        "id": "iMph9prglJL7",
        "outputId": "3afb5944-2b03-4adf-df69-da7e5f774da5"
      },
      "execution_count": 108,
      "outputs": [
        {
          "output_type": "error",
          "ename": "ValueError",
          "evalue": "Input must be >= 2-d.",
          "traceback": [
            "\u001b[0;31m---------------------------------------------------------------------------\u001b[0m",
            "\u001b[0;31mValueError\u001b[0m                                Traceback (most recent call last)",
            "\u001b[0;32m<ipython-input-108-d92978ac19b5>\u001b[0m in \u001b[0;36m<cell line: 2>\u001b[0;34m()\u001b[0m\n\u001b[1;32m      1\u001b[0m \u001b[0marray_1d\u001b[0m \u001b[0;34m=\u001b[0m \u001b[0mnp\u001b[0m\u001b[0;34m.\u001b[0m\u001b[0marray\u001b[0m\u001b[0;34m(\u001b[0m\u001b[0;34m[\u001b[0m\u001b[0;36m1\u001b[0m\u001b[0;34m,\u001b[0m \u001b[0;36m2\u001b[0m\u001b[0;34m,\u001b[0m \u001b[0;36m3\u001b[0m\u001b[0;34m]\u001b[0m\u001b[0;34m)\u001b[0m\u001b[0;34m\u001b[0m\u001b[0;34m\u001b[0m\u001b[0m\n\u001b[0;32m----> 2\u001b[0;31m \u001b[0mprint\u001b[0m\u001b[0;34m(\u001b[0m\u001b[0mnp\u001b[0m\u001b[0;34m.\u001b[0m\u001b[0mfliplr\u001b[0m\u001b[0;34m(\u001b[0m\u001b[0marray_1d\u001b[0m\u001b[0;34m)\u001b[0m\u001b[0;34m)\u001b[0m\u001b[0;34m\u001b[0m\u001b[0;34m\u001b[0m\u001b[0m\n\u001b[0m\u001b[1;32m      3\u001b[0m \u001b[0mprint\u001b[0m\u001b[0;34m(\u001b[0m\u001b[0mnp\u001b[0m\u001b[0;34m.\u001b[0m\u001b[0mflipud\u001b[0m\u001b[0;34m(\u001b[0m\u001b[0marray_1d\u001b[0m\u001b[0;34m)\u001b[0m\u001b[0;34m)\u001b[0m\u001b[0;34m\u001b[0m\u001b[0;34m\u001b[0m\u001b[0m\n",
            "\u001b[0;32m/usr/local/lib/python3.10/dist-packages/numpy/lib/twodim_base.py\u001b[0m in \u001b[0;36mfliplr\u001b[0;34m(m)\u001b[0m\n\u001b[1;32m     96\u001b[0m     \u001b[0mm\u001b[0m \u001b[0;34m=\u001b[0m \u001b[0masanyarray\u001b[0m\u001b[0;34m(\u001b[0m\u001b[0mm\u001b[0m\u001b[0;34m)\u001b[0m\u001b[0;34m\u001b[0m\u001b[0;34m\u001b[0m\u001b[0m\n\u001b[1;32m     97\u001b[0m     \u001b[0;32mif\u001b[0m \u001b[0mm\u001b[0m\u001b[0;34m.\u001b[0m\u001b[0mndim\u001b[0m \u001b[0;34m<\u001b[0m \u001b[0;36m2\u001b[0m\u001b[0;34m:\u001b[0m\u001b[0;34m\u001b[0m\u001b[0;34m\u001b[0m\u001b[0m\n\u001b[0;32m---> 98\u001b[0;31m         \u001b[0;32mraise\u001b[0m \u001b[0mValueError\u001b[0m\u001b[0;34m(\u001b[0m\u001b[0;34m\"Input must be >= 2-d.\"\u001b[0m\u001b[0;34m)\u001b[0m\u001b[0;34m\u001b[0m\u001b[0;34m\u001b[0m\u001b[0m\n\u001b[0m\u001b[1;32m     99\u001b[0m     \u001b[0;32mreturn\u001b[0m \u001b[0mm\u001b[0m\u001b[0;34m[\u001b[0m\u001b[0;34m:\u001b[0m\u001b[0;34m,\u001b[0m \u001b[0;34m:\u001b[0m\u001b[0;34m:\u001b[0m\u001b[0;34m-\u001b[0m\u001b[0;36m1\u001b[0m\u001b[0;34m]\u001b[0m\u001b[0;34m\u001b[0m\u001b[0;34m\u001b[0m\u001b[0m\n\u001b[1;32m    100\u001b[0m \u001b[0;34m\u001b[0m\u001b[0m\n",
            "\u001b[0;31mValueError\u001b[0m: Input must be >= 2-d."
          ]
        }
      ]
    },
    {
      "cell_type": "markdown",
      "source": [
        "2D Arrays:\n",
        "\n",
        "fliplr() reverses columns, while flipud() reverses rows."
      ],
      "metadata": {
        "id": "CGAK9A4gpEoc"
      }
    },
    {
      "cell_type": "code",
      "source": [
        "array_2d = np.array([[1, 2, 3],\n",
        "                     [4, 5, 6]])\n",
        "\n",
        "# Fliplr\n",
        "print(\"Output After Applying fliplr :\")\n",
        "print(np.fliplr(array_2d))\n",
        "# Flipud\n",
        "print(\"Output After Applying flipud :\")\n",
        "print(np.flipud(array_2d))"
      ],
      "metadata": {
        "colab": {
          "base_uri": "https://localhost:8080/"
        },
        "id": "z5UP3fqglc_7",
        "outputId": "1594e305-90e3-40f8-f85e-aba263fa00b8"
      },
      "execution_count": 109,
      "outputs": [
        {
          "output_type": "stream",
          "name": "stdout",
          "text": [
            "Output After Applying fliplr :\n",
            "[[3 2 1]\n",
            " [6 5 4]]\n",
            "Output After Applying flipud :\n",
            "[[4 5 6]\n",
            " [1 2 3]]\n"
          ]
        }
      ]
    },
    {
      "cell_type": "markdown",
      "source": [
        "Higher-Dimensional Arrays:\n",
        "\n",
        "For 3D or higher-dimensional arrays, fliplr() will only affect the last axis (the columns), while flipud() will only affect the first axis (the rows)."
      ],
      "metadata": {
        "id": "BoY-rpsWq4Vk"
      }
    },
    {
      "cell_type": "code",
      "source": [
        "array_3d = np.array([[[1, 2], [3, 4]],\n",
        "                     [[5, 6], [7, 8]]])\n",
        "\n",
        "# Original Array\n",
        "print(f\"Original Array : \\n{array_3d}\\n\")\n",
        "# Fliplr\n",
        "print(\"Output After Applying fliplr :\")\n",
        "print(np.fliplr(array_3d))\n",
        "\n",
        "# Flipud\n",
        "print(\"\\nOutput After Applying flipud :\")\n",
        "print(np.flipud(array_3d))"
      ],
      "metadata": {
        "colab": {
          "base_uri": "https://localhost:8080/"
        },
        "id": "Ow3ysJSEpoD7",
        "outputId": "0e0bf558-31f3-431a-f4bc-6db106a081e1"
      },
      "execution_count": 110,
      "outputs": [
        {
          "output_type": "stream",
          "name": "stdout",
          "text": [
            "Original Array : \n",
            "[[[1 2]\n",
            "  [3 4]]\n",
            "\n",
            " [[5 6]\n",
            "  [7 8]]]\n",
            "\n",
            "Output After Applying fliplr :\n",
            "[[[3 4]\n",
            "  [1 2]]\n",
            "\n",
            " [[7 8]\n",
            "  [5 6]]]\n",
            "\n",
            "Output After Applying flipud :\n",
            "[[[5 6]\n",
            "  [7 8]]\n",
            "\n",
            " [[1 2]\n",
            "  [3 4]]]\n"
          ]
        }
      ]
    },
    {
      "cell_type": "markdown",
      "source": [
        "**Question 9 : Discuss the functionality of the array_split() method in NumPy. How does it handle uneven splits?**"
      ],
      "metadata": {
        "id": "PvdivVcosFbS"
      }
    },
    {
      "cell_type": "markdown",
      "source": [
        "## Solution:"
      ],
      "metadata": {
        "id": "00_5veXTsKSz"
      }
    },
    {
      "cell_type": "markdown",
      "source": [
        "The array_split() method in NumPy is used to split an array into multiple sub-arrays.\n",
        "\n",
        "Unlike the split() method, which requires that the array be evenly divisible by the specified number of splits, array_split() can handle uneven splits."
      ],
      "metadata": {
        "id": "EfAUlxy9sqT5"
      }
    },
    {
      "cell_type": "markdown",
      "source": [
        "Syntax -\n",
        "\n",
        "numpy.array_split(ary, indices_or_sections, axis=0)"
      ],
      "metadata": {
        "id": "Lj2eGq1Bs0uY"
      }
    },
    {
      "cell_type": "markdown",
      "source": [
        "Parameters:\n",
        "\n",
        "ary: The input array to be split.\n",
        "\n",
        "indices_or_sections: This can be:\n",
        "An integer indicating the number of equal sections to split the array into.\n",
        "A 1-D array of sorted indices, which indicates the points at which to split the array.\n",
        "\n",
        "axis: The axis along which to split the array. The default is 0 (split along rows for 2D arrays).\n",
        "\n",
        "Return Value: It returns a list of sub-arrays (or ndarrays) resulting from the split."
      ],
      "metadata": {
        "id": "X0ILu3RetEQp"
      }
    },
    {
      "cell_type": "code",
      "source": [
        "# Basic Example:\n",
        "\n",
        "import numpy as np\n",
        "\n",
        "# Create a 1D array\n",
        "array_1d = np.array([1, 2, 3, 4, 5, 6])\n",
        "\n",
        "# Split the array into 3 sections\n",
        "split_arrays = np.array_split(array_1d, 3)\n",
        "print(\"Split 1D Array:\", split_arrays)"
      ],
      "metadata": {
        "colab": {
          "base_uri": "https://localhost:8080/"
        },
        "id": "UAdJm38Tt6Rp",
        "outputId": "a5d3a5c3-ac9c-449d-ad8f-e1f8b53bdc9d"
      },
      "execution_count": 111,
      "outputs": [
        {
          "output_type": "stream",
          "name": "stdout",
          "text": [
            "Split 1D Array: [array([1, 2]), array([3, 4]), array([5, 6])]\n"
          ]
        }
      ]
    },
    {
      "cell_type": "markdown",
      "source": [
        "### Handling Uneven Splits"
      ],
      "metadata": {
        "id": "AVSGdaWVtLOU"
      }
    },
    {
      "cell_type": "code",
      "source": [
        "# Uneven Splits\n",
        "import numpy as np\n",
        "\n",
        "# Create a 1D array\n",
        "array_1d = np.array([1, 2, 3, 4, 5, 6,7])\n",
        "\n",
        "# Split the array into 3 sections\n",
        "split_arrays = np.array_split(array_1d, 3)\n",
        "print(\"Split 1D Array:\", split_arrays)"
      ],
      "metadata": {
        "colab": {
          "base_uri": "https://localhost:8080/"
        },
        "id": "XxPAEQffq-rc",
        "outputId": "c39f29fb-b432-40f0-809d-811249d646e4"
      },
      "execution_count": 112,
      "outputs": [
        {
          "output_type": "stream",
          "name": "stdout",
          "text": [
            "Split 1D Array: [array([1, 2, 3]), array([4, 5]), array([6, 7])]\n"
          ]
        }
      ]
    },
    {
      "cell_type": "markdown",
      "source": [
        "*In this case, the array has been split into 3 sub-arrays, where the first sub-arrays have 3 elements, and the last two has 2 elements as well.*"
      ],
      "metadata": {
        "id": "2luTJA4VtnB0"
      }
    },
    {
      "cell_type": "markdown",
      "source": [
        "### 2D Array Split"
      ],
      "metadata": {
        "id": "olpU9Obou3nb"
      }
    },
    {
      "cell_type": "code",
      "source": [
        "import numpy as np\n",
        "\n",
        "# Create a 2D array\n",
        "array_2d = np.array([[1, 2, 3],\n",
        "                     [4, 5, 6],\n",
        "                     [7, 8, 9]])\n",
        "\n",
        "# Split the array into 2 sections along the first axis (rows)\n",
        "split_arrays_2d = np.array_split(array_2d, 2, axis=0)\n",
        "print(\"Split 2D Array:\\n\", split_arrays_2d)"
      ],
      "metadata": {
        "colab": {
          "base_uri": "https://localhost:8080/"
        },
        "id": "PfzjhjgjtgHK",
        "outputId": "a161ae50-f681-4273-b2d1-4240785b3da2"
      },
      "execution_count": 113,
      "outputs": [
        {
          "output_type": "stream",
          "name": "stdout",
          "text": [
            "Split 2D Array:\n",
            " [array([[1, 2, 3],\n",
            "       [4, 5, 6]]), array([[7, 8, 9]])]\n"
          ]
        }
      ]
    },
    {
      "cell_type": "markdown",
      "source": [
        "**Question 10 : Explain the concepts of vectorization and broadcasting in NumPy. How do they contribute to efficient array\n",
        "operations?**"
      ],
      "metadata": {
        "id": "ht43sJ85vJ2K"
      }
    },
    {
      "cell_type": "markdown",
      "source": [
        "## Solution:"
      ],
      "metadata": {
        "id": "Gwjbqi9uvpmZ"
      }
    },
    {
      "cell_type": "markdown",
      "source": [
        "**Vectorization**\n",
        "\n",
        "*Definition:*\n",
        "\n",
        "Vectorization refers to the process of converting iterative operations into a single operation that applies to an entire array or a subset of an array at once. This allows for operations to be executed at a lower level, which is typically much faster than using explicit loops in Python.\n",
        "\n",
        "*How It Works:*\n",
        "\n",
        "In NumPy, vectorized operations are performed using native C and Fortran libraries under the hood, which optimize the computation for performance. Instead of iterating over elements with loops, you can apply operations directly to whole arrays."
      ],
      "metadata": {
        "id": "uBXWZWngvtU9"
      }
    },
    {
      "cell_type": "code",
      "source": [
        "import numpy as np\n",
        "\n",
        "# Create two large arrays\n",
        "a = np.array([1, 2, 3, 4])\n",
        "b = np.array([10, 20, 30, 40])\n",
        "\n",
        "# Vectorized addition\n",
        "result = a + b  # This adds the corresponding elements of a and b\n",
        "print(\"Vectorized Result:\", result)"
      ],
      "metadata": {
        "colab": {
          "base_uri": "https://localhost:8080/"
        },
        "id": "XPMMcHpYu7fK",
        "outputId": "1530a80c-387f-4cc2-8694-d2e524dc9630"
      },
      "execution_count": 114,
      "outputs": [
        {
          "output_type": "stream",
          "name": "stdout",
          "text": [
            "Vectorized Result: [11 22 33 44]\n"
          ]
        }
      ]
    },
    {
      "cell_type": "markdown",
      "source": [
        "**Broadcasting**\n",
        "\n",
        "*Definition:*\n",
        "\n",
        "Broadcasting is a powerful mechanism that allows NumPy to perform arithmetic operations on arrays of different shapes and sizes. It enables the automatic expansion of smaller arrays to match the shape of larger arrays during operations.\n",
        "\n",
        "*How It Works:*\n",
        "\n",
        "When performing operations on arrays of different shapes, NumPy automatically expands the smaller array across the larger array so that they have compatible shapes. This does not involve copying data; instead, it creates a conceptual view of the data in a way that allows the operation to proceed as if the arrays were of the same size."
      ],
      "metadata": {
        "id": "7H07Ljc6wAXx"
      }
    },
    {
      "cell_type": "code",
      "source": [
        "import numpy as np\n",
        "\n",
        "# Create a 1D array and a 2D array\n",
        "a = np.array([1, 2, 3])  # Shape (3,)\n",
        "b = np.array([[10], [20], [30]])  # Shape (3, 1)\n",
        "\n",
        "# Broadcasting: a (1D) is expanded to match b (2D)\n",
        "result = a + b\n",
        "print(\"Broadcasted Result:\\n\", result)"
      ],
      "metadata": {
        "colab": {
          "base_uri": "https://localhost:8080/"
        },
        "id": "PTbURh_Dv3nr",
        "outputId": "edfe0a4f-b4c6-45f3-f283-975e8b7883cc"
      },
      "execution_count": 115,
      "outputs": [
        {
          "output_type": "stream",
          "name": "stdout",
          "text": [
            "Broadcasted Result:\n",
            " [[11 12 13]\n",
            " [21 22 23]\n",
            " [31 32 33]]\n"
          ]
        }
      ]
    },
    {
      "cell_type": "markdown",
      "source": [
        "As a conclusion, we can say both vectorization and broadcasting are essential features in NumPy that contribute to its efficiency and power in numerical computing :"
      ],
      "metadata": {
        "id": "jEW0OiNswYdl"
      }
    },
    {
      "cell_type": "markdown",
      "source": [
        "Vectorization allows for performing operations on entire arrays without the need for explicit loops, leading to faster execution and cleaner code.\n",
        "\n",
        "Broadcasting enables operations between arrays of different shapes, enhancing flexibility and reducing the need for manual data manipulation."
      ],
      "metadata": {
        "id": "MDju_TBcwhjJ"
      }
    },
    {
      "cell_type": "markdown",
      "source": [
        "Together, these concepts make NumPy a powerful tool for efficient array operations and numerical computations, which are crucial in scientific computing, data analysis, and machine learning applications."
      ],
      "metadata": {
        "id": "TI9tuF7PwrtF"
      }
    },
    {
      "cell_type": "markdown",
      "source": [
        "\n",
        "\n",
        "---\n",
        "\n"
      ],
      "metadata": {
        "id": "BbQkq3n5w3qh"
      }
    },
    {
      "cell_type": "markdown",
      "source": [
        "# **Practical Questions**"
      ],
      "metadata": {
        "id": "DdFphkWMw5w2"
      }
    },
    {
      "cell_type": "markdown",
      "source": [
        "**Question 1 : Create a 3x3 NumPy array with random integers between 1 and 100. Then, interchange its rows and columns.**"
      ],
      "metadata": {
        "id": "j-q5drVhxBJD"
      }
    },
    {
      "cell_type": "markdown",
      "source": [
        "## Solution:"
      ],
      "metadata": {
        "id": "LOQ7I4ezxIfp"
      }
    },
    {
      "cell_type": "code",
      "source": [
        "import numpy as np\n",
        "\n",
        "# Create a 3x3 array with random integers between 1 and 100\n",
        "array_3x3 = np.random.randint(1, 101, size=(3, 3))\n",
        "\n",
        "# Print the original array\n",
        "print(\"Original Array:\\n\", array_3x3)\n",
        "\n",
        "# Interchange rows and columns (transpose the array)\n",
        "transposed_array = np.transpose(array_3x3)\n",
        "# Alternatively, you can use:\n",
        "# transposed_array = array_3x3.T\n",
        "\n",
        "# Print the transposed array\n",
        "print(\"\\nTransposed Array:\\n\", transposed_array)"
      ],
      "metadata": {
        "colab": {
          "base_uri": "https://localhost:8080/"
        },
        "id": "K8fDFYtmwRAa",
        "outputId": "45e3217c-05bc-4822-d81a-21ebf8f1c9ef"
      },
      "execution_count": 116,
      "outputs": [
        {
          "output_type": "stream",
          "name": "stdout",
          "text": [
            "Original Array:\n",
            " [[41 86 31]\n",
            " [ 1 55 81]\n",
            " [26 50  7]]\n",
            "\n",
            "Transposed Array:\n",
            " [[41  1 26]\n",
            " [86 55 50]\n",
            " [31 81  7]]\n"
          ]
        }
      ]
    },
    {
      "cell_type": "markdown",
      "source": [
        "**Question 2 : Generate a 1D NumPy array with 10 elements. Reshape it into a 2x5 array, then into a 5x2 array.**"
      ],
      "metadata": {
        "id": "AlktKvCRxt1h"
      }
    },
    {
      "cell_type": "markdown",
      "source": [
        "## Solution:"
      ],
      "metadata": {
        "id": "OhMgsAoLxzZD"
      }
    },
    {
      "cell_type": "code",
      "source": [
        "import numpy as np\n",
        "\n",
        "# Generate a 1D NumPy array with 10 elements\n",
        "array_1d = np.arange(10)  # This creates an array with values from 0 to 9\n",
        "\n",
        "# Print the original 1D array\n",
        "print(\"Original 1D Array:\\n\", array_1d)\n",
        "\n",
        "# Reshape it into a 2x5 array\n",
        "array_2x5 = array_1d.reshape(2, 5)\n",
        "print(\"\\nReshaped into 2x5 Array:\\n\", array_2x5)\n",
        "\n",
        "# Reshape it into a 5x2 array\n",
        "array_5x2 = array_1d.reshape(5, 2)\n",
        "print(\"\\nReshaped into 5x2 Array:\\n\", array_5x2)"
      ],
      "metadata": {
        "colab": {
          "base_uri": "https://localhost:8080/"
        },
        "id": "TRi4E-DYxlL2",
        "outputId": "7cc76abc-5b7e-4968-d076-e894c3e95600"
      },
      "execution_count": 117,
      "outputs": [
        {
          "output_type": "stream",
          "name": "stdout",
          "text": [
            "Original 1D Array:\n",
            " [0 1 2 3 4 5 6 7 8 9]\n",
            "\n",
            "Reshaped into 2x5 Array:\n",
            " [[0 1 2 3 4]\n",
            " [5 6 7 8 9]]\n",
            "\n",
            "Reshaped into 5x2 Array:\n",
            " [[0 1]\n",
            " [2 3]\n",
            " [4 5]\n",
            " [6 7]\n",
            " [8 9]]\n"
          ]
        }
      ]
    },
    {
      "cell_type": "markdown",
      "source": [
        "**Question 3 :  Create a 4x4 NumPy array with random float values. Add a border of zeros around it, resulting in a 6x6 array.**"
      ],
      "metadata": {
        "id": "l2l9V2cdySXi"
      }
    },
    {
      "cell_type": "markdown",
      "source": [
        "## Solution:"
      ],
      "metadata": {
        "id": "6806uNnayXvQ"
      }
    },
    {
      "cell_type": "code",
      "source": [
        "import numpy as np\n",
        "\n",
        "# Create a 4x4 NumPy array with random float values\n",
        "array_4x4 = np.random.rand(4, 4)  # Values between 0 and 1\n",
        "print(\"Original 4x4 Array:\\n\", array_4x4)\n",
        "\n",
        "# Add a border of zeros around the array\n",
        "array_with_border = np.pad(array_4x4, pad_width=1, mode='constant', constant_values=0)\n",
        "\n",
        "# Print the resulting 6x6 array\n",
        "print(\"\\n6x6 Array with Border of Zeros:\\n\", array_with_border)"
      ],
      "metadata": {
        "colab": {
          "base_uri": "https://localhost:8080/"
        },
        "id": "2-f--4o5yMsb",
        "outputId": "86888a26-fb45-476d-f389-d350ff75fb2a"
      },
      "execution_count": 118,
      "outputs": [
        {
          "output_type": "stream",
          "name": "stdout",
          "text": [
            "Original 4x4 Array:\n",
            " [[0.42518796 0.67832091 0.08840929 0.34635975]\n",
            " [0.46045921 0.18699818 0.17502324 0.00447629]\n",
            " [0.49988056 0.38776934 0.7550801  0.45067859]\n",
            " [0.32035168 0.45718045 0.93650002 0.24081099]]\n",
            "\n",
            "6x6 Array with Border of Zeros:\n",
            " [[0.         0.         0.         0.         0.         0.        ]\n",
            " [0.         0.42518796 0.67832091 0.08840929 0.34635975 0.        ]\n",
            " [0.         0.46045921 0.18699818 0.17502324 0.00447629 0.        ]\n",
            " [0.         0.49988056 0.38776934 0.7550801  0.45067859 0.        ]\n",
            " [0.         0.32035168 0.45718045 0.93650002 0.24081099 0.        ]\n",
            " [0.         0.         0.         0.         0.         0.        ]]\n"
          ]
        }
      ]
    },
    {
      "cell_type": "markdown",
      "source": [
        "**Question 4 : Using NumPy, create an array of integers from 10 to 60 with a step of 5.**"
      ],
      "metadata": {
        "id": "iLkJ3hZby7KI"
      }
    },
    {
      "cell_type": "markdown",
      "source": [
        "## Solution:"
      ],
      "metadata": {
        "id": "_foil-ZgzAYX"
      }
    },
    {
      "cell_type": "code",
      "source": [
        "import numpy as np\n",
        "\n",
        "# Create an array of integers from 10 to 60 with a step of 5\n",
        "array_integers = np.arange(10, 61, 5)  # The upper limit is exclusive\n",
        "\n",
        "# Print the resulting array\n",
        "print(\"Array of integers from 10 to 60 with a step of 5:\\n\", array_integers)"
      ],
      "metadata": {
        "colab": {
          "base_uri": "https://localhost:8080/"
        },
        "id": "qZXriAKoygUR",
        "outputId": "c5d1156f-b1a5-4480-aa3e-e2dc8d1ecc8d"
      },
      "execution_count": 119,
      "outputs": [
        {
          "output_type": "stream",
          "name": "stdout",
          "text": [
            "Array of integers from 10 to 60 with a step of 5:\n",
            " [10 15 20 25 30 35 40 45 50 55 60]\n"
          ]
        }
      ]
    },
    {
      "cell_type": "markdown",
      "source": [
        "**Question 5 :  Create a NumPy array of strings ['python', 'numpy', 'pandas']. Apply different case transformations\n",
        "(uppercase, lowercase, title case, etc.) to each element.**"
      ],
      "metadata": {
        "id": "KTLaDfnmzPDI"
      }
    },
    {
      "cell_type": "markdown",
      "source": [
        "## Solution:"
      ],
      "metadata": {
        "id": "W_qlHPDBzUsA"
      }
    },
    {
      "cell_type": "code",
      "source": [
        "import numpy as np\n",
        "\n",
        "# Create a NumPy array of strings\n",
        "array_strings = np.array(['python', 'numpy', 'pandas'])\n",
        "\n",
        "# Apply different case transformations\n",
        "uppercase_array = np.char.upper(array_strings)\n",
        "lowercase_array = np.char.lower(array_strings)\n",
        "titlecase_array = np.char.title(array_strings)\n",
        "captialcase_array = np.char.capitalize(array_strings)\n",
        "\n",
        "# Print the original and transformed arrays\n",
        "print(\"Original Array:\\n\", array_strings)\n",
        "print(\"\\nUppercase Array:\\n\", uppercase_array)\n",
        "print(\"\\nLowercase Array:\\n\", lowercase_array)\n",
        "print(\"\\nTitlecase Array:\\n\", titlecase_array)\n",
        "print(\"\\nCapitalize Case Array:\\n\", captialcase_array)"
      ],
      "metadata": {
        "colab": {
          "base_uri": "https://localhost:8080/"
        },
        "id": "tIsuwG2UzIcC",
        "outputId": "3a34c97c-37bf-4d09-dff4-17d3cfc994da"
      },
      "execution_count": 120,
      "outputs": [
        {
          "output_type": "stream",
          "name": "stdout",
          "text": [
            "Original Array:\n",
            " ['python' 'numpy' 'pandas']\n",
            "\n",
            "Uppercase Array:\n",
            " ['PYTHON' 'NUMPY' 'PANDAS']\n",
            "\n",
            "Lowercase Array:\n",
            " ['python' 'numpy' 'pandas']\n",
            "\n",
            "Titlecase Array:\n",
            " ['Python' 'Numpy' 'Pandas']\n",
            "\n",
            "Capitalize Case Array:\n",
            " ['Python' 'Numpy' 'Pandas']\n"
          ]
        }
      ]
    },
    {
      "cell_type": "markdown",
      "source": [
        "**Question 6 : Generate a NumPy array of words. Insert a space between each character of every word in the array.**"
      ],
      "metadata": {
        "id": "nnkandD50Mk0"
      }
    },
    {
      "cell_type": "markdown",
      "source": [
        "## Solution:"
      ],
      "metadata": {
        "id": "Efy0TEnZ0RSi"
      }
    },
    {
      "cell_type": "code",
      "source": [
        "import numpy as np\n",
        "\n",
        "# Create a NumPy array of words\n",
        "array_words = np.array(['numpy', 'pandas', 'python', 'data'])\n",
        "\n",
        "# Insert a space between each character of every word\n",
        "spaced_array = np.char.join(' ', array_words)\n",
        "\n",
        "# Print the resulting array with spaces between characters\n",
        "print(\"Original Array:\\n\", array_words)\n",
        "print(\"\\nArray with Spaces Between Characters:\\n\", spaced_array)"
      ],
      "metadata": {
        "colab": {
          "base_uri": "https://localhost:8080/"
        },
        "id": "zLBQpNs_zcFx",
        "outputId": "bc963bfd-2176-4503-8e7b-10f6b2fbf8e6"
      },
      "execution_count": 121,
      "outputs": [
        {
          "output_type": "stream",
          "name": "stdout",
          "text": [
            "Original Array:\n",
            " ['numpy' 'pandas' 'python' 'data']\n",
            "\n",
            "Array with Spaces Between Characters:\n",
            " ['n u m p y' 'p a n d a s' 'p y t h o n' 'd a t a']\n"
          ]
        }
      ]
    },
    {
      "cell_type": "markdown",
      "source": [
        "**Question 7 : Create two 2D NumPy arrays and perform element-wise addition, subtraction, multiplication, and division.**"
      ],
      "metadata": {
        "id": "tHLZxhhW0i2z"
      }
    },
    {
      "cell_type": "markdown",
      "source": [
        "## Solution:"
      ],
      "metadata": {
        "id": "xq793nBm2C7U"
      }
    },
    {
      "cell_type": "code",
      "source": [
        "import numpy as np\n",
        "\n",
        "# Create two 2D NumPy arrays\n",
        "array1 = np.array([[1, 2, 3],\n",
        "                   [4, 5, 6]])\n",
        "\n",
        "array2 = np.array([[7, 8, 9],\n",
        "                   [10, 11, 12]])\n",
        "\n",
        "# Perform element-wise addition\n",
        "addition_result = array1 + array2\n",
        "\n",
        "# Perform element-wise subtraction\n",
        "subtraction_result = array1 - array2\n",
        "\n",
        "# Perform element-wise multiplication\n",
        "multiplication_result = array1 * array2\n",
        "\n",
        "# Perform element-wise division\n",
        "division_result = array1 / array2\n",
        "\n",
        "# Print the results\n",
        "print(\"Array 1:\\n\", array1)\n",
        "print(\"\\nArray 2:\\n\", array2)\n",
        "print(\"\\nElement-wise Addition:\\n\", addition_result)\n",
        "print(\"\\nElement-wise Subtraction:\\n\", subtraction_result)\n",
        "print(\"\\nElement-wise Multiplication:\\n\", multiplication_result)\n",
        "print(\"\\nElement-wise Division:\\n\", division_result)"
      ],
      "metadata": {
        "colab": {
          "base_uri": "https://localhost:8080/"
        },
        "id": "v1YhsW8s0YSi",
        "outputId": "d9fc6bf6-7ffc-4e0a-ec3d-f1041dd80910"
      },
      "execution_count": 122,
      "outputs": [
        {
          "output_type": "stream",
          "name": "stdout",
          "text": [
            "Array 1:\n",
            " [[1 2 3]\n",
            " [4 5 6]]\n",
            "\n",
            "Array 2:\n",
            " [[ 7  8  9]\n",
            " [10 11 12]]\n",
            "\n",
            "Element-wise Addition:\n",
            " [[ 8 10 12]\n",
            " [14 16 18]]\n",
            "\n",
            "Element-wise Subtraction:\n",
            " [[-6 -6 -6]\n",
            " [-6 -6 -6]]\n",
            "\n",
            "Element-wise Multiplication:\n",
            " [[ 7 16 27]\n",
            " [40 55 72]]\n",
            "\n",
            "Element-wise Division:\n",
            " [[0.14285714 0.25       0.33333333]\n",
            " [0.4        0.45454545 0.5       ]]\n"
          ]
        }
      ]
    },
    {
      "cell_type": "markdown",
      "source": [
        "**Question 8 : Use NumPy to create a 5x5 identity matrix, then extract its diagonal elements.**"
      ],
      "metadata": {
        "id": "C926UmnS0ruU"
      }
    },
    {
      "cell_type": "markdown",
      "source": [
        "## Solution:"
      ],
      "metadata": {
        "id": "JkeAoZ7L0yda"
      }
    },
    {
      "cell_type": "code",
      "source": [
        "import numpy as np\n",
        "\n",
        "\n",
        "# Create a 5x5 identity matrix\n",
        "identity_matrix = np.eye(5)\n",
        "\n",
        "# Print the identity matrix\n",
        "print(\"5x5 Identity Matrix:\\n\", identity_matrix)\n",
        "\n",
        "# Extract the diagonal elements\n",
        "diagonal_elements = identity_matrix.diagonal()\n",
        "\n",
        "# Print the diagonal elements\n",
        "print(\"\\nDiagonal Elements:\\n\", diagonal_elements)"
      ],
      "metadata": {
        "colab": {
          "base_uri": "https://localhost:8080/"
        },
        "id": "VZM3URMS0p1r",
        "outputId": "03e7ed5a-5d5a-4a11-e58a-c94310815a7c"
      },
      "execution_count": 123,
      "outputs": [
        {
          "output_type": "stream",
          "name": "stdout",
          "text": [
            "5x5 Identity Matrix:\n",
            " [[1. 0. 0. 0. 0.]\n",
            " [0. 1. 0. 0. 0.]\n",
            " [0. 0. 1. 0. 0.]\n",
            " [0. 0. 0. 1. 0.]\n",
            " [0. 0. 0. 0. 1.]]\n",
            "\n",
            "Diagonal Elements:\n",
            " [1. 1. 1. 1. 1.]\n"
          ]
        }
      ]
    },
    {
      "cell_type": "markdown",
      "source": [
        "**Question 9 : . Generate a NumPy array of 100 random integers between 0 and 1000. Find and display all prime numbers in\n",
        "this array.**"
      ],
      "metadata": {
        "id": "UBPmRoZy11UL"
      }
    },
    {
      "cell_type": "markdown",
      "source": [
        "## Solution:"
      ],
      "metadata": {
        "id": "JbN6zp-g15G_"
      }
    },
    {
      "cell_type": "code",
      "source": [
        "import numpy as np\n",
        "\n",
        "# Generate a NumPy array of 100 random integers between 0 and 1000\n",
        "random_integers = np.random.randint(0, 1000, size=100)\n",
        "\n",
        "# Function to check if a number is prime\n",
        "def is_prime(num):\n",
        "    if num <= 1:\n",
        "        return False\n",
        "    for i in range(2, int(num**0.5) + 1):\n",
        "        if num % i == 0:\n",
        "            return False\n",
        "    return True\n",
        "\n",
        "# Find and display all prime numbers in the array\n",
        "prime_numbers = [num for num in random_integers if is_prime(num)]\n",
        "\n",
        "# Print the results\n",
        "print(\"Random Integers:\\n\", random_integers)\n",
        "print(\"\\nPrime Numbers in the Array:\\n\", prime_numbers)"
      ],
      "metadata": {
        "colab": {
          "base_uri": "https://localhost:8080/"
        },
        "id": "XmMVwq47035B",
        "outputId": "5418e68b-f4bc-499f-ec8d-845bb9121b79"
      },
      "execution_count": 124,
      "outputs": [
        {
          "output_type": "stream",
          "name": "stdout",
          "text": [
            "Random Integers:\n",
            " [342 522 467 486 801 656 380 652 918 177 591 849 167 204 844   2 135 495\n",
            " 326 593 619 159 901 349 394  83  70 900 688 881 762 507 268 337 252 927\n",
            " 752 911 682 570 326 155 253 416 989  27 124 813 349 782 925 938 423 170\n",
            " 535 650 663 494 817 815 370 532 601 426 377 165  49 780 411 738 343 865\n",
            " 434  96 780 620 895 487 472 700 735 443 962 383 636 981 207  30 870  96\n",
            " 168 405 718 221 144 841 253  66  25 429]\n",
            "\n",
            "Prime Numbers in the Array:\n",
            " [467, 167, 2, 593, 619, 349, 83, 881, 337, 911, 349, 601, 487, 443, 383]\n"
          ]
        }
      ]
    },
    {
      "cell_type": "markdown",
      "source": [
        "**Question 10 : Create a NumPy array representing daily temperatures for a month. Calculate and display the weekly\n",
        "averages.**"
      ],
      "metadata": {
        "id": "-57lNXmM2tCj"
      }
    },
    {
      "cell_type": "markdown",
      "source": [
        "## Solution:"
      ],
      "metadata": {
        "id": "ZE8z0ZR32xrO"
      }
    },
    {
      "cell_type": "code",
      "source": [
        "import numpy as np\n",
        "\n",
        "# Generate a NumPy array representing daily temperatures for a month (30 days)\n",
        "# Let's assume the temperatures range from -10 to 35 degrees Celsius\n",
        "daily_temperatures = np.random.randint(-10, 36, size=30)\n",
        "\n",
        "# Reshape the array to represent 4 weeks (using only the first 28 days)\n",
        "weekly_temperatures = daily_temperatures[:28].reshape(4, 7)\n",
        "\n",
        "# Calculate the weekly averages\n",
        "weekly_averages = np.mean(weekly_temperatures, axis=1)\n",
        "# When you use np.mean(array, axis=1), you are telling NumPy to compute the mean across the columns for each row\n",
        "\n",
        "# Handle the last two days separately\n",
        "remaining_days = daily_temperatures[28:]\n",
        "\n",
        "# Calculate the average for the last two days if they exist\n",
        "remaining_average = np.mean(remaining_days) if len(remaining_days) > 0 else None\n",
        "\n",
        "# Print the results\n",
        "print(\"Daily Temperatures for the Month:\\n\", daily_temperatures)\n",
        "print(\"\\nWeekly Temperatures:\\n\", weekly_temperatures)\n",
        "print(\"\\nWeekly Averages:\\n\", weekly_averages)\n",
        "\n",
        "if remaining_average is not None:\n",
        "    print(\"\\nAverage Temperature for the Remaining Days:\\n\", remaining_average)"
      ],
      "metadata": {
        "colab": {
          "base_uri": "https://localhost:8080/"
        },
        "id": "RNwLf0m-2d1r",
        "outputId": "7d76b302-ffbb-4451-cfba-9260121ac92d"
      },
      "execution_count": 125,
      "outputs": [
        {
          "output_type": "stream",
          "name": "stdout",
          "text": [
            "Daily Temperatures for the Month:\n",
            " [  5  17  28  32  -6   2  -8   8  -4  23   6  10  -9  25   2 -10  35  34\n",
            "  -5  28   3  -1  15  -9  27  13  19  18  19  17]\n",
            "\n",
            "Weekly Temperatures:\n",
            " [[  5  17  28  32  -6   2  -8]\n",
            " [  8  -4  23   6  10  -9  25]\n",
            " [  2 -10  35  34  -5  28   3]\n",
            " [ -1  15  -9  27  13  19  18]]\n",
            "\n",
            "Weekly Averages:\n",
            " [10.          8.42857143 12.42857143 11.71428571]\n",
            "\n",
            "Average Temperature for the Remaining Days:\n",
            " 18.0\n"
          ]
        }
      ]
    },
    {
      "cell_type": "markdown",
      "source": [
        "\n",
        "\n",
        "---\n",
        "\n"
      ],
      "metadata": {
        "id": "Ju-xKp6s7JeD"
      }
    }
  ]
}